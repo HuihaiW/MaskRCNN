{
 "cells": [
  {
   "cell_type": "code",
   "execution_count": 1,
   "metadata": {},
   "outputs": [],
   "source": [
    "import json\n",
    "import shutil\n",
    "import os"
   ]
  },
  {
   "cell_type": "code",
   "execution_count": 2,
   "metadata": {},
   "outputs": [],
   "source": [
    "def select_data(j, origin_image, target_image, origin_anno, target_anno, json_path):\n",
    "    \n",
    "    \"\"\"\n",
    "    j: origin json file\n",
    "    origin_image: origin image dataset\n",
    "    target_image: the target folder of image dataset\n",
    "    origin_anno: the folder of origin mask images\n",
    "    target_anno: the folder of target mask images\n",
    "    json_path: the generated new json file\n",
    "    \"\"\"\n",
    "\n",
    "    annotations = j['annotations']\n",
    "    annot_list = []\n",
    "    image_ids = []\n",
    "    i = 0\n",
    "\n",
    "    for anno in annotations:\n",
    "\n",
    "        seg_list = []\n",
    "        segments = anno['segments_info']\n",
    "        win_count = 0\n",
    "        for seg in segments:\n",
    "            category_id = seg['category_id']\n",
    "            if category_id in [180, 181]:\n",
    "                win_count = win_count + 1\n",
    "            if category_id in [180, 181, 171, 175, 176, 177, 199]:\n",
    "                seg_list.append(seg)\n",
    "\n",
    "        if win_count != 0:\n",
    "            new_annotation = {}\n",
    "            new_annotation['segments_info'] = seg_list\n",
    "            new_annotation['file_name'] = anno['file_name']\n",
    "            new_annotation['image_id'] = anno['image_id']\n",
    "            new_image_name = anno['file_name'].replace('png', 'jpg')\n",
    "            annot_list.append(new_annotation)\n",
    "            image_ids.append(anno['image_id'])\n",
    "            shutil.copy(os.path.join(origin_image, new_image_name), target_image)\n",
    "            shutil.copy(os.path.join(origin_anno, anno['file_name']), target_anno)\n",
    "\n",
    "    new_image_list = []\n",
    "    for image in j['images']:\n",
    "        ID = image['id']\n",
    "        if ID in image_ids:\n",
    "            new_image_list.append(image)\n",
    "\n",
    "    j['images'] = new_image_list\n",
    "    j['annotations'] = annot_list\n",
    "\n",
    "    #store josn\n",
    "    \n",
    "    with open(json_path, 'w') as json_file:\n",
    "        json.dump(j, json_file)"
   ]
  },
  {
   "cell_type": "code",
   "execution_count": 3,
   "metadata": {},
   "outputs": [],
   "source": [
    "path = r'/home/huihai/Downloads/panoptic_annotations_trainval2017/annotations/panoptic_val2017.json'\n",
    "j = json.loads(open(path).read())\n",
    "\n",
    "origin_image = r'/home/huihai/Huihai/Mask/Mask_RCNN/datasets/coco/val2017'\n",
    "target_image = r'/home/huihai/Huihai/Mask/Mask_RCNN/datasets/coco/2017_wall_window/validation/image'\n",
    "origin_anno = r'/home/huihai/Downloads/panoptic_annotations_trainval2017/annotations/panoptic_val2017/panoptic_val2017'\n",
    "target_anno = r'/home/huihai/Huihai/Mask/Mask_RCNN/datasets/coco/2017_wall_window/validation/annotation_image'\n",
    "json_path = r'/home/huihai/Huihai/Mask/Mask_RCNN/datasets/coco/2017_wall_window/validation/validation.json'\n",
    "select_data(j, origin_image, target_image, origin_anno, target_anno, json_path)"
   ]
  },
  {
   "cell_type": "code",
   "execution_count": null,
   "metadata": {},
   "outputs": [],
   "source": []
  },
  {
   "cell_type": "code",
   "execution_count": null,
   "metadata": {},
   "outputs": [],
   "source": []
  },
  {
   "cell_type": "code",
   "execution_count": null,
   "metadata": {},
   "outputs": [],
   "source": []
  }
 ],
 "metadata": {
  "kernelspec": {
   "display_name": "Python 3",
   "language": "python",
   "name": "python3"
  },
  "language_info": {
   "codemirror_mode": {
    "name": "ipython",
    "version": 3
   },
   "file_extension": ".py",
   "mimetype": "text/x-python",
   "name": "python",
   "nbconvert_exporter": "python",
   "pygments_lexer": "ipython3",
   "version": "3.6.12"
  }
 },
 "nbformat": 4,
 "nbformat_minor": 4
}
